{
 "cells": [
  {
   "cell_type": "code",
   "execution_count": 3,
   "id": "caf9afa6",
   "metadata": {},
   "outputs": [
    {
     "ename": "ModuleNotFoundError",
     "evalue": "No module named 'pandas'",
     "output_type": "error",
     "traceback": [
      "\u001b[0;31m---------------------------------------------------------------------------\u001b[0m",
      "\u001b[0;31mModuleNotFoundError\u001b[0m                       Traceback (most recent call last)",
      "\u001b[0;32m/var/folders/6w/kqw7_pd13p703hbc51gh09b80000gn/T/ipykernel_35480/4080736814.py\u001b[0m in \u001b[0;36m<module>\u001b[0;34m\u001b[0m\n\u001b[0;32m----> 1\u001b[0;31m \u001b[0;32mimport\u001b[0m \u001b[0mpandas\u001b[0m \u001b[0;32mas\u001b[0m \u001b[0mpd\u001b[0m\u001b[0;34m\u001b[0m\u001b[0;34m\u001b[0m\u001b[0m\n\u001b[0m",
      "\u001b[0;31mModuleNotFoundError\u001b[0m: No module named 'pandas'"
     ]
    }
   ],
   "source": [
    "import pandas as pd"
   ]
  },
  {
   "cell_type": "code",
   "execution_count": null,
   "id": "7074b761",
   "metadata": {},
   "outputs": [],
   "source": [
    "import numpy as np"
   ]
  },
  {
   "cell_type": "code",
   "execution_count": null,
   "id": "d62666a1",
   "metadata": {},
   "outputs": [],
   "source": [
    "import matplotlib.pyplot as plt"
   ]
  },
  {
   "cell_type": "code",
   "execution_count": null,
   "id": "3443c4ee",
   "metadata": {},
   "outputs": [],
   "source": [
    "df=pd.read_csv(\"2020daily193.csv\", index_col='Date',parse_dates=True)"
   ]
  },
  {
   "cell_type": "code",
   "execution_count": null,
   "id": "bf309a23",
   "metadata": {},
   "outputs": [],
   "source": [
    "pacific_df=pd.DataFrame(df)"
   ]
  },
  {
   "cell_type": "code",
   "execution_count": null,
   "id": "d8e402ef",
   "metadata": {},
   "outputs": [],
   "source": [
    "df_compare=pd.read_csv(\"2020daily091.csv\", index_col='Date',parse_dates=True)"
   ]
  },
  {
   "cell_type": "code",
   "execution_count": null,
   "id": "4e635784",
   "metadata": {},
   "outputs": [],
   "source": [
    "coalinga_df=pd.DataFrame(df_compare)"
   ]
  },
  {
   "cell_type": "code",
   "execution_count": null,
   "id": "fb3473d2",
   "metadata": {},
   "outputs": [],
   "source": [
    "pacific_df"
   ]
  },
  {
   "cell_type": "code",
   "execution_count": null,
   "id": "42123d36",
   "metadata": {},
   "outputs": [],
   "source": [
    "coalinga_df"
   ]
  },
  {
   "cell_type": "markdown",
   "id": "d69724bb",
   "metadata": {},
   "source": [
    "---"
   ]
  },
  {
   "cell_type": "markdown",
   "id": "62debbe4",
   "metadata": {},
   "source": [
    "## 1. Compare the Solar Radiation Average of the two places"
   ]
  },
  {
   "cell_type": "markdown",
   "id": "c9a92e37",
   "metadata": {},
   "source": [
    "### Solar Radiation Average of Pacific Grove "
   ]
  },
  {
   "cell_type": "code",
   "execution_count": null,
   "id": "af417081",
   "metadata": {},
   "outputs": [],
   "source": [
    "pacific_solar = pacific_df.iloc[:,[6]]\n",
    "pacific_solar"
   ]
  },
  {
   "cell_type": "code",
   "execution_count": null,
   "id": "9ab36c60",
   "metadata": {},
   "outputs": [],
   "source": [
    "# Monthly and quarterly Solar Radiation Average of Pacific Grove \n",
    "print(\"   Monthly Solar Radiation Average, Pacific Grove\")\n",
    "print()\n",
    "pacific_solar_monthly_average = pacific_solar.resample('M').mean()\n",
    "print(pacific_solar_monthly_average)\n",
    "print('-----------------------------------------------------')\n",
    "print(\"   Quarterly Solar Radiation Average, Pacific Grove\")\n",
    "print()\n",
    "print(pacific_solar.resample('Q').mean())"
   ]
  },
  {
   "cell_type": "code",
   "execution_count": null,
   "id": "faae3602",
   "metadata": {},
   "outputs": [],
   "source": [
    "plt.title('Monthly Solar Radiation Average, Pacific Grove')\n",
    "plt.grid(True)\n",
    "caw_plot = plt.plot(pacific_solar_monthly_average.index, pacific_solar_monthly_average['Solar Radiation Average   (Ly/day)   (W/m≤)'], linewidth=3)\n",
    "plt.xlabel('Month')\n",
    "plt.ylabel('Solar Radiation Average  (Ly/day)   (W/m≤)')"
   ]
  },
  {
   "cell_type": "markdown",
   "id": "d458a8fd",
   "metadata": {},
   "source": [
    "### Solar Radiation Average of Coalinga"
   ]
  },
  {
   "cell_type": "code",
   "execution_count": null,
   "id": "a15e05f2",
   "metadata": {},
   "outputs": [],
   "source": [
    "coalinga_solar = coalinga_df.iloc[:,[6]]\n",
    "coalinga_solar"
   ]
  },
  {
   "cell_type": "code",
   "execution_count": null,
   "id": "a18b70c5",
   "metadata": {},
   "outputs": [],
   "source": [
    "# Monthly and quarterly Solar Radiation Average of coalinga\n",
    "print(\"      Monthly Solar Radiation Average, Coalinga\")\n",
    "print()\n",
    "coalinga_solar_monthly_average = coalinga_solar.resample('M').mean()\n",
    "print(coalinga_solar_monthly_average)\n",
    "print('-----------------------------------------------------')\n",
    "print(\"      Quarterly Solar Radiation Average, Coalinga\")\n",
    "print()\n",
    "print(coalinga_solar.resample('Q').mean())"
   ]
  },
  {
   "cell_type": "code",
   "execution_count": null,
   "id": "79d1dbfa",
   "metadata": {},
   "outputs": [],
   "source": [
    "plt.title('Monthly Solar Radiation Average, Coalinga')\n",
    "plt.grid(True)\n",
    "caw_plot = plt.plot(coalinga_solar_monthly_average.index, coalinga_solar_monthly_average['Solar Radiation Average   (Ly/day)   (W/m≤)'], linewidth=3)\n",
    "plt.xlabel('Month')\n",
    "plt.ylabel('Solar Radiation Average  (Ly/day)   (W/m≤)')"
   ]
  },
  {
   "cell_type": "code",
   "execution_count": null,
   "id": "bcec76a5",
   "metadata": {},
   "outputs": [],
   "source": [
    "plt.plot(pacific_solar_monthly_average.index, pacific_solar_monthly_average['Solar Radiation Average   (Ly/day)   (W/m≤)'],label='Pacific Grove',linewidth=3)\n",
    "plt.plot(coalinga_solar_monthly_average.index, coalinga_solar_monthly_average['Solar Radiation Average   (Ly/day)   (W/m≤)'],label='Coalinga',linewidth=3)\n",
    "plt.title('Pacific Grove vs Coalinga: Monthly Solar Radiation Average')\n",
    "plt.xlabel('Month')\n",
    "plt.ylabel('Solar Radiation Average  (Ly/day)   (W/m≤)')\n",
    "plt.grid()\n",
    "plt.legend()"
   ]
  },
  {
   "cell_type": "code",
   "execution_count": null,
   "id": "0d4eb1c6",
   "metadata": {},
   "outputs": [],
   "source": [
    "pacific_solar.std()"
   ]
  },
  {
   "cell_type": "code",
   "execution_count": null,
   "id": "2f811ef2",
   "metadata": {},
   "outputs": [],
   "source": [
    "coalinga_solar.std()"
   ]
  },
  {
   "cell_type": "markdown",
   "id": "fb809017",
   "metadata": {},
   "source": [
    "### Conclusion\n",
    "**From the graph we can see that:**\n",
    "\n",
    "|  | Pacific Grove | Coalinga |\n",
    "| :----- | :---- | :---- |\n",
    "| solar radiation peak | 2nd quarter | 3rd quarter |\n",
    "| standard deviation | smaller (158.70) | larger (201.13) |\n",
    "\n",
    "- Pacific Grove has the highest Solar Radiation Average in the second quarter, while the Solar Radiation Average of Coalinga reaches its peak in the third quarter.\n",
    "- Coalinga(201.13) has a larger standard deviation than Pacific Grove(158.70) in terms of Solar Radiation Average, which mean that the solar radiation of Coalinga is not as stable as that of Pacific Grove.\n",
    "- Generally speaking, from April to the end of October, the Solar Radiation Average of Coalinga becomes higher than that of Pacific Grove."
   ]
  },
  {
   "cell_type": "markdown",
   "id": "4d287cf6",
   "metadata": {},
   "source": [
    "---"
   ]
  },
  {
   "cell_type": "markdown",
   "id": "2bae309b",
   "metadata": {},
   "source": [
    "## Compare the Maximum Air Temperature of the two places    "
   ]
  },
  {
   "cell_type": "markdown",
   "id": "214d594f",
   "metadata": {},
   "source": [
    "**Before jumping into actual analysis, we made an assumption based on the knowledge that coastal areas generally have more moderate temperatures than inland interiors. We expect to see that Pacific Grove will have a smaller standard deviation in terms of Maximum Air Temperature.**"
   ]
  },
  {
   "cell_type": "markdown",
   "id": "cb09c1b7",
   "metadata": {},
   "source": [
    "### Maximum Air Temperature of Pacific Grove"
   ]
  },
  {
   "cell_type": "code",
   "execution_count": null,
   "id": "ccfdcdf6",
   "metadata": {},
   "outputs": [],
   "source": [
    "pacific_df['Maximum Air Temperature   (∞F)   (∞C)'].replace('--', \"NaN\", inplace=True)\n",
    "pacific_df['Maximum Air Temperature   (∞F)   (∞C)'] = pacific_df['Maximum Air Temperature   (∞F)   (∞C)'].astype(float)\n",
    "pacific_temp_max = pacific_df.iloc[:,[10]]\n",
    "pacific_temp_max"
   ]
  },
  {
   "cell_type": "code",
   "execution_count": null,
   "id": "09623ce3",
   "metadata": {},
   "outputs": [],
   "source": [
    "# Monthly and quarterly average of Average Vapor Pressure, pacific Grove\n",
    "print(\"Monthly Sum of Maximum Air Temperature, Pacific Grove\")\n",
    "print()\n",
    "pacific_temp_max_monthly_average = pacific_temp_max.resample('M').mean()\n",
    "print(pacific_temp_max_monthly_average)\n",
    "print('-----------------------------------------------------')\n",
    "print(\"Quarterly Sum of Average Vapor Pressure, Pacific Grove\")\n",
    "print()\n",
    "print(pacific_temp_max.resample('Q').mean())"
   ]
  },
  {
   "cell_type": "markdown",
   "id": "133f6f57",
   "metadata": {},
   "source": [
    "### Maximum Air Temperature of Coalinga"
   ]
  },
  {
   "cell_type": "code",
   "execution_count": null,
   "id": "2d16d646",
   "metadata": {},
   "outputs": [],
   "source": [
    "coalinga_df['Maximum Air Temperature   (∞F)   (∞C)'].replace('--', \"NaN\", inplace=True)\n",
    "coalinga_df['Maximum Air Temperature   (∞F)   (∞C)'] = coalinga_df['Maximum Air Temperature   (∞F)   (∞C)'].astype(float)\n",
    "coalinga_temp_max = coalinga_df.iloc[:,[10]]\n",
    "coalinga_temp_max"
   ]
  },
  {
   "cell_type": "code",
   "execution_count": null,
   "id": "af53b222",
   "metadata": {},
   "outputs": [],
   "source": [
    "# Monthly and quarterly average of Maximum Air Temperature, coalinga\n",
    "print(\"Monthly Sum of Maximum Air Temperature, Coalinga\")\n",
    "print()\n",
    "coalinga_temp_max_monthly_average = coalinga_temp_max.resample('M').mean()\n",
    "print(coalinga_temp_max_monthly_average)\n",
    "print('-----------------------------------------------------')\n",
    "print(\"Quarterly Sum of Average Vapor Pressure, Pacific Grove\")\n",
    "print()\n",
    "print(coalinga_temp_max.resample('Q').mean())"
   ]
  },
  {
   "cell_type": "code",
   "execution_count": null,
   "id": "766ab256",
   "metadata": {},
   "outputs": [],
   "source": [
    "plt.plot(pacific_temp_max_monthly_average.index, pacific_temp_max_monthly_average['Maximum Air Temperature   (∞F)   (∞C)'],'b',label='Pacific Grove',linewidth=3)\n",
    "plt.plot(coalinga_temp_max_monthly_average.index, coalinga_temp_max_monthly_average['Maximum Air Temperature   (∞F)   (∞C)'],'r',label='Coalinga',linewidth=3)\n",
    "plt.title('Pacific Grove vs Coalinga: Monthly Average of Maximum Air Temperature')\n",
    "plt.ylabel('Maximum Air Temperature  (∞F)   (∞C)')\n",
    "plt.xlabel('Month')\n",
    "plt.grid()\n",
    "plt.legend()"
   ]
  },
  {
   "cell_type": "code",
   "execution_count": null,
   "id": "966bfb03",
   "metadata": {},
   "outputs": [],
   "source": [
    "pacific_temp_max.std()"
   ]
  },
  {
   "cell_type": "code",
   "execution_count": null,
   "id": "2a1a57ee",
   "metadata": {},
   "outputs": [],
   "source": [
    "coalinga_temp_max.std()"
   ]
  },
  {
   "cell_type": "markdown",
   "id": "712228dd",
   "metadata": {},
   "source": [
    "### Conclusion\n",
    "From the graph we can see, Pacific Grove displays a much more smooth line than Coalinga, indicating its standard deviation(4.38) is much lower than that of Coalinga(17.16) in terms of Maximum Air Temperature.\n",
    "\n",
    "Why so? **Heat Capacity** is the answer.\n",
    "\n",
    "Heat Capacity is a physical property of matter. It is the amount of energy needed to change the temperature of any material. Different matters have different heat capacity. The heat capacity of water (4.184 J/g °C) is 4-5 times higher than rock or dirt. Therefore, water is more latent to heat while rock is more sensitive, because in order the change the same portion of temperature, water will need much more energy than rock or dirt.\n",
    "meaning that water has the capacity to store more heat energy for more time. The high heat capacity of water moderates temperature changes over land areas adjacent to lakes or coastlines.\n",
    "\n",
    "As we know, Pacific Grove is surrounded by water, which takes much longer to heat and to cool than the land. But once the water is heated up or has collected enough heat, it retains its heat for a longer time than the inland area does.  \n",
    "\n",
    "Therefore, it supports our conclusion that Pacific Grove has more moderate temperatures than Coalinga."
   ]
  },
  {
   "cell_type": "markdown",
   "id": "4d44d347",
   "metadata": {},
   "source": [
    "---"
   ]
  },
  {
   "cell_type": "markdown",
   "id": "4bd22276",
   "metadata": {},
   "source": [
    "## Find the correlation between the Maximum Air Temperature and the Average Soil Temperature\n",
    "\n",
    "Now we want to do some analysis regarding the Average Soil Temperature. Instead of comparing the Average Soil Temperature of two places, we want to discover if there is a correlation between the Maximum Air Temperature and the Average Soil Temperature of each place.\n",
    "\n",
    "Again, we made a prior assumption that the higher the Maximum Air Temperature is, the higher Average Soil Temperature will be."
   ]
  },
  {
   "cell_type": "markdown",
   "id": "ed0c430c",
   "metadata": {},
   "source": [
    "### Average Soil Temperature of Pacific Grove "
   ]
  },
  {
   "cell_type": "code",
   "execution_count": null,
   "id": "321a2196",
   "metadata": {},
   "outputs": [],
   "source": [
    "pacific_soil = pacific_df.iloc[:,[28]]\n",
    "pacific_soil"
   ]
  },
  {
   "cell_type": "code",
   "execution_count": null,
   "id": "87ddc4d5",
   "metadata": {},
   "outputs": [],
   "source": [
    "# Monthly and quarterly Average Soil Temperature of pacific Grove \n",
    "print(\"   Monthly Average Soil Temperature, Pacific Grove\")\n",
    "print()\n",
    "pacific_soil_monthly_average= pacific_soil.resample('M').mean()\n",
    "print(pacific_soil_monthly_average)\n",
    "print('-----------------------------------------------------')\n",
    "print(\"   Quarterly Average Soil Temperature, Pacific Grove\")\n",
    "print()\n",
    "print(pacific_soil.resample('Q').mean())"
   ]
  },
  {
   "cell_type": "markdown",
   "id": "a81e4bb3",
   "metadata": {},
   "source": [
    "### Average Soil Temperature of Coalinga "
   ]
  },
  {
   "cell_type": "code",
   "execution_count": null,
   "id": "7420026e",
   "metadata": {},
   "outputs": [],
   "source": [
    "coalinga_soil = coalinga_df.iloc[:,[28]]\n",
    "coalinga_soil"
   ]
  },
  {
   "cell_type": "code",
   "execution_count": null,
   "id": "325d0ef5",
   "metadata": {},
   "outputs": [],
   "source": [
    "# Monthly and quarterly Average Soil Temperature of coalinga \n",
    "print(\"   Monthly Average Soil Temperature, Coalinga\")\n",
    "print()\n",
    "coalinga_soil_monthly_average = coalinga_soil.resample('M').mean()\n",
    "print(coalinga_soil_monthly_average)\n",
    "print('-----------------------------------------------------')\n",
    "print(\"   Quarterly Average Soil Temperature, Coalinga\")\n",
    "print()\n",
    "print(coalinga_soil.resample('Q').mean())"
   ]
  },
  {
   "cell_type": "code",
   "execution_count": null,
   "id": "f8585988",
   "metadata": {},
   "outputs": [],
   "source": [
    "fig = plt.figure()\n",
    "plt.plot(pacific_temp_max_monthly_average.index, pacific_temp_max_monthly_average['Maximum Air Temperature   (∞F)   (∞C)'],'ys-') \n",
    "plt.plot(pacific_soil_monthly_average.index, pacific_soil_monthly_average['Average Soil Temperature   (∞F)   (∞C)'],'go--')\n",
    "plt.legend(labels = ('Air Temperature', 'Soil Temperature'), loc = 'upper left') \n",
    "plt.title(\"Pacific Grove: Correlation between Maximum Air Temperature and Average Soil Temperature\")\n",
    "plt.xlabel('Month')\n",
    "plt.ylabel('Temperature (∞F) (∞C)')\n",
    "plt.grid()\n",
    "\n",
    "fig = plt.figure()\n",
    "plt.plot(coalinga_temp_max_monthly_average.index, coalinga_temp_max_monthly_average['Maximum Air Temperature   (∞F)   (∞C)'],'ys-') \n",
    "plt.plot(coalinga_soil_monthly_average.index, coalinga_soil_monthly_average['Average Soil Temperature   (∞F)   (∞C)'],'go--')\n",
    "plt.legend(labels = ('Air Temperature', 'Soil Temperature'), loc = 'upper left') \n",
    "plt.title(\"Coalinga: Correlation between Maximum Air Temperature and Average Soil Temperature\")\n",
    "plt.xlabel('Month')\n",
    "plt.ylabel('Temperature (∞F) (∞C)')\n",
    "plt.grid()"
   ]
  },
  {
   "cell_type": "markdown",
   "id": "a0ee5a17",
   "metadata": {},
   "source": [
    "### Conclusion\n",
    "**From the two graphs above, we can conclude that:**\n",
    "- Compared with Pacific Grove, Coalinga shows a better correlation between its Maximum Air Temperature and Average Soil Temperature.\n",
    "- However, generally speaking, the Average Soil Temperature of the two regions is proportional to their corresponding Maximum Air Temperature.\n"
   ]
  },
  {
   "cell_type": "markdown",
   "id": "be12e684",
   "metadata": {},
   "source": [
    "<span class=\"mark\">>啊啊</span>\n",
    "---"
   ]
  },
  {
   "cell_type": "markdown",
   "id": "a08ec0d8",
   "metadata": {},
   "source": [
    "1 Precipitation \n",
    "We assume the precipitation of coastal areas should be higher and more equally distributed than it of inland areas.\n",
    "In this case, we anaylze the monthly precipitation in both Pacific Grove and Coalinga."
   ]
  },
  {
   "cell_type": "code",
   "execution_count": null,
   "id": "272d0e39",
   "metadata": {},
   "outputs": [],
   "source": [
    "pacific_rain=pacific_df.iloc[:,[4]]\n",
    "pacific_rain"
   ]
  },
  {
   "cell_type": "code",
   "execution_count": null,
   "id": "d562a66e",
   "metadata": {},
   "outputs": [],
   "source": [
    "monthly_pacific_rain=pacific_rain.resample(\"M\").mean()\n",
    "monthly_pacific_rain"
   ]
  },
  {
   "cell_type": "code",
   "execution_count": null,
   "id": "0dcc0886",
   "metadata": {},
   "outputs": [],
   "source": [
    "quarterly_pacific_rain=pacific_rain.resample(\"Q\").mean()\n",
    "quarterly_pacific_rain"
   ]
  },
  {
   "cell_type": "code",
   "execution_count": null,
   "id": "ebb7a2bf",
   "metadata": {},
   "outputs": [],
   "source": [
    "#We are able to tell from this "
   ]
  },
  {
   "cell_type": "code",
   "execution_count": null,
   "id": "b4e154f2",
   "metadata": {},
   "outputs": [],
   "source": [
    "quarters=[\"Q1\",\"Q2\",\"Q3\",\"Q4\"]\n",
    "quarterly_pacific_rain.plot.pie(subplots=True,labels=quarters,normalize=False)\n",
    "plt.title('Quarterly Precipitation in Pacific Grove')\n",
    "plt.axis('equal')\n",
    "plt.legend(loc='center left', bbox_to_anchor=(1, 0.75))"
   ]
  },
  {
   "cell_type": "markdown",
   "id": "86834fd8",
   "metadata": {},
   "source": [
    "From this pie chart, it can be told that most rainy days can be seen in Q1, followed by Q2. Q3 shares the smallest amount of rainfall."
   ]
  },
  {
   "cell_type": "code",
   "execution_count": null,
   "id": "2b9dfa0f",
   "metadata": {},
   "outputs": [],
   "source": [
    "coalinga_df_rain=coalinga_df.iloc[:,[4]]\n",
    "coalinga_df_rain"
   ]
  },
  {
   "cell_type": "code",
   "execution_count": null,
   "id": "fa1bb5e7",
   "metadata": {},
   "outputs": [],
   "source": [
    "monthly_coalinga_rain=coalinga_df_rain.resample(\"M\").mean()\n",
    "monthly_coalinga_rain"
   ]
  },
  {
   "cell_type": "code",
   "execution_count": null,
   "id": "dc78c955",
   "metadata": {},
   "outputs": [],
   "source": [
    "quarterly_coalinga_rain=coalinga_df_rain.resample(\"Q\").mean()\n",
    "quarterly_coalinga_rain"
   ]
  },
  {
   "cell_type": "code",
   "execution_count": null,
   "id": "4a273a52",
   "metadata": {},
   "outputs": [],
   "source": [
    "quarters=[\"Q1\",\"Q2\",\"Q3\",\"Q4\"]\n",
    "quarterly_coalinga_rain.plot.pie(subplots=True,labels=quarters,normalize=False)\n",
    "plt.title('Quarterly Precipitation in Coalinga')\n",
    "plt.axis('equal')\n",
    "plt.legend(loc='center left', bbox_to_anchor=(1.15, 0.75))"
   ]
  },
  {
   "cell_type": "markdown",
   "id": "56a607e3",
   "metadata": {},
   "source": [
    "From this pie chart, it can be found Q3 receives the least amount of rainfall, whereas other quarters receive a similar amount of it."
   ]
  },
  {
   "cell_type": "code",
   "execution_count": null,
   "id": "ca4b4f3b",
   "metadata": {},
   "outputs": [],
   "source": [
    "monthly_coalinga_rain.describe()"
   ]
  },
  {
   "cell_type": "code",
   "execution_count": null,
   "id": "befdaf7e",
   "metadata": {},
   "outputs": [],
   "source": [
    "monthly_pacific_rain.describe()"
   ]
  },
  {
   "cell_type": "markdown",
   "id": "5e030e8b",
   "metadata": {},
   "source": [
    "From this table, it is found that the standard deviation of the precipitation in Pacific Grove is larger than it in Coalinga, which is the opposite from what we anticipated."
   ]
  },
  {
   "cell_type": "code",
   "execution_count": null,
   "id": "51ed3bd9",
   "metadata": {},
   "outputs": [],
   "source": [
    "plt.plot(monthly_coalinga_rain,label=\"Coalinga\")\n",
    "plt.plot(monthly_pacific_rain,label=\"Pacific Grove\")\n",
    "plt.title('Difference of Monthly Precipitation Between Pacific Grove and Coalinga')\n",
    "plt.ylabel('Precipitation   (in)   (mm)')\n",
    "plt.xlabel('Month')\n",
    "plt.legend()"
   ]
  },
  {
   "cell_type": "markdown",
   "id": "1d408d11",
   "metadata": {},
   "source": [
    "From the chart, it can be told that both Pacific Grove and Coalinga receive less rainfall annually speaking. For Pacific Grove, rainy days largely concentrates on the second quarter of the year, which is spring in the whole year. And it matches the the climate feature of mediterranean climate. Whereas the precipitation fluctuates less in Coalinga, which matches the climate feature of continental climate."
   ]
  },
  {
   "cell_type": "code",
   "execution_count": null,
   "id": "81ac9747",
   "metadata": {},
   "outputs": [],
   "source": [
    "pacific_df[\"Average Relative Humidity   (%)\"].replace(\"--\",\"NaN\",inplace=True)"
   ]
  },
  {
   "cell_type": "code",
   "execution_count": null,
   "id": "d22fe4e3",
   "metadata": {},
   "outputs": [],
   "source": [
    "pacific_df[\"Maximum Relative Humidity   (%)\"].replace(\"--\",\"NaN\",inplace=True)"
   ]
  },
  {
   "cell_type": "code",
   "execution_count": null,
   "id": "9a070ea1",
   "metadata": {},
   "outputs": [],
   "source": [
    "pacific_df[\"Minimum Relative Humidity   (%)\"].replace(\"--\",\"NaN\",inplace=True)"
   ]
  },
  {
   "cell_type": "code",
   "execution_count": null,
   "id": "d14ecda2",
   "metadata": {},
   "outputs": [],
   "source": [
    "pacific_df[\"Average Relative Humidity   (%)\"]=pacific_df[\"Average Relative Humidity   (%)\"].astype(float)"
   ]
  },
  {
   "cell_type": "code",
   "execution_count": null,
   "id": "96cdcb6a",
   "metadata": {},
   "outputs": [],
   "source": [
    "pacific_df[\"Maximum Relative Humidity   (%)\"]=pacific_df[\"Maximum Relative Humidity   (%)\"].astype(float)"
   ]
  },
  {
   "cell_type": "code",
   "execution_count": null,
   "id": "19d42746",
   "metadata": {},
   "outputs": [],
   "source": [
    "pacific_df[\"Minimum Relative Humidity   (%)\"]=pacific_df[\"Minimum Relative Humidity   (%)\"].astype(float)"
   ]
  },
  {
   "cell_type": "markdown",
   "id": "005ba2c1",
   "metadata": {},
   "source": [
    "2 Humidity\n",
    "The correlation between humidity and precipitation is commonly described as positive. Since the precipitation in California is relatively low, this report is not going to analyze the correlation between these two features."
   ]
  },
  {
   "cell_type": "code",
   "execution_count": null,
   "id": "e58a8d9e",
   "metadata": {},
   "outputs": [],
   "source": [
    "pacific_humid=pacific_df.iloc[:,[20]]\n",
    "pacific_humid"
   ]
  },
  {
   "cell_type": "code",
   "execution_count": null,
   "id": "5bb84fe3",
   "metadata": {},
   "outputs": [],
   "source": [
    "monthly_pacific_humid=pacific_humid.resample('M').mean()\n",
    "monthly_pacific_humid"
   ]
  },
  {
   "cell_type": "code",
   "execution_count": null,
   "id": "b98d9900",
   "metadata": {},
   "outputs": [],
   "source": [
    "pacific_humid.resample('Q').mean()"
   ]
  },
  {
   "cell_type": "code",
   "execution_count": null,
   "id": "cf618f69",
   "metadata": {},
   "outputs": [],
   "source": [
    "pacific_humid_change=pacific_df.iloc[:,[16,18,20]]\n",
    "pacific_humid_change"
   ]
  },
  {
   "cell_type": "code",
   "execution_count": null,
   "id": "2334373b",
   "metadata": {},
   "outputs": [],
   "source": [
    "monthly_pacific_humid_change=pacific_humid_change.resample(\"M\").mean()\n",
    "monthly_pacific_humid_change"
   ]
  },
  {
   "cell_type": "code",
   "execution_count": null,
   "id": "a06b00a8",
   "metadata": {},
   "outputs": [],
   "source": [
    "pacific_humid_change.resample(\"Q\").mean()"
   ]
  },
  {
   "cell_type": "code",
   "execution_count": null,
   "id": "868a62fd",
   "metadata": {},
   "outputs": [],
   "source": [
    "coalinga_humid=coalinga_df.iloc[:,[20]]\n",
    "coalinga_humid"
   ]
  },
  {
   "cell_type": "code",
   "execution_count": null,
   "id": "3dd1a6e2",
   "metadata": {},
   "outputs": [],
   "source": [
    "coalinga_df[\"Average Relative Humidity   (%)\"].replace(\"--\",\"NaN\",inplace=True)"
   ]
  },
  {
   "cell_type": "code",
   "execution_count": null,
   "id": "8b4222eb",
   "metadata": {},
   "outputs": [],
   "source": [
    "coalinga_df[\"Average Relative Humidity   (%)\"]=coalinga_df[\"Average Relative Humidity   (%)\"].astype(float)"
   ]
  },
  {
   "cell_type": "code",
   "execution_count": null,
   "id": "0d20e756",
   "metadata": {},
   "outputs": [],
   "source": [
    "monthly_coalinga_humid=coalinga_humid.resample(\"M\").mean()\n",
    "monthly_coalinga_humid"
   ]
  },
  {
   "cell_type": "code",
   "execution_count": null,
   "id": "f38e6cdc",
   "metadata": {},
   "outputs": [],
   "source": [
    "monthly_pacific_humid.describe()"
   ]
  },
  {
   "cell_type": "code",
   "execution_count": null,
   "id": "204fd407",
   "metadata": {},
   "outputs": [],
   "source": [
    "monthly_coalinga_humid.describe()"
   ]
  },
  {
   "cell_type": "markdown",
   "id": "ba7e9eec",
   "metadata": {},
   "source": [
    "From the tables above, the standard deviation of humidity in Coalinga is largely higher than it in Pacific Grove, which means the stability of humidity in Coalinga is less than it in Pacific Grove.\n",
    "In order to see the actual display of humidity, the average humidity of two stations are combined below."
   ]
  },
  {
   "cell_type": "code",
   "execution_count": null,
   "id": "368a24f4",
   "metadata": {},
   "outputs": [],
   "source": [
    "coalinga_humid_change=coalinga_df.iloc[:,[16,18,20]]\n",
    "coalinga_humid_change"
   ]
  },
  {
   "cell_type": "code",
   "execution_count": null,
   "id": "723bdc66",
   "metadata": {},
   "outputs": [],
   "source": [
    "monthly_coalinga_humid_change=coalinga_humid_change.resample(\"M\").mean()\n",
    "monthly_coalinga_humid_change"
   ]
  },
  {
   "cell_type": "code",
   "execution_count": null,
   "id": "35488a01",
   "metadata": {},
   "outputs": [],
   "source": [
    "'''plt.plot(monthly_pacific_humid_change)\n",
    "plt.legend(labels = ('Maximum Relative Humidity (%)', 'Minimum Relative Humidity (%)','Average Relative Humidity (%)'))\n",
    "plt.title(\"Monthly Humidity Change of Pacific Grove\")\n",
    "plt.xlabel(\"Month\")\n",
    "plt.ylabel(\"Humidity Level (%)\")\n",
    "'''"
   ]
  },
  {
   "cell_type": "code",
   "execution_count": null,
   "id": "090c3fba",
   "metadata": {},
   "outputs": [],
   "source": [
    "'''plt.plot(monthly_coalinga_humid_change)\n",
    "plt.legend(labels = ('Maximum Relative Humidity (%)', 'Minimum Relative Humidity (%)','Average Relative Humidity (%)'))\n",
    "plt.title(\"Monthly Humidity Change of Coalinga\")\n",
    "plt.xlabel(\"Month\")\n",
    "plt.ylabel(\"Humidity Level (%)\")\n",
    "'''"
   ]
  },
  {
   "cell_type": "code",
   "execution_count": null,
   "id": "e509d408",
   "metadata": {},
   "outputs": [],
   "source": [
    "plt.plot(monthly_pacific_humid,label=\"Pacific Grove\")\n",
    "plt.plot(monthly_coalinga_humid,label=\"Coalinga\")\n",
    "plt.title('Difference of Monthly Average Humidity between Pacific Grove and Coalinga')\n",
    "plt.ylabel('Humidity (%)')\n",
    "plt.xlabel('Month')\n",
    "plt.legend()"
   ]
  },
  {
   "cell_type": "markdown",
   "id": "328fe437",
   "metadata": {},
   "source": [
    "The char above shows the difference of humidity in Pacific Grove and Coalinga. From this chart, it can be seen that the humidity has remained at a high level in Pacific Grove but fluctuates greatly in Coalinga with a relatively low level in the whole year.\n",
    "The other thing worth mentioning is that in October, the humidity of Pacific Grove reaches the highest level whereas in Coalinga, it experience the driest month. And this treat also reflects the difference between the mediterranean climate and the continental climate."
   ]
  },
  {
   "cell_type": "markdown",
   "id": "635c19b8",
   "metadata": {},
   "source": [
    "Compare the Average Vapor Pressure of the two places.     \n",
    "\n",
    "Vapor Pressure definition: It is the amount of pressure in millibars exerted by the water vapor in the air.    \n",
    "\n",
    "It is natural to make the assumption that the Average Vapor Pressure of Pacific Grove is higher than that of Coalinga since Pacific Grove is a coastal city while Coalinga is located in California's central valley."
   ]
  },
  {
   "cell_type": "code",
   "execution_count": null,
   "id": "566e14d5",
   "metadata": {},
   "outputs": [],
   "source": [
    "#  Average Vapor Pressure of Pacific Grove \n",
    "caw_vapor = pacific_df.iloc[:,[8]]\n",
    "caw_vapor"
   ]
  },
  {
   "cell_type": "code",
   "execution_count": null,
   "id": "c7d3e52a",
   "metadata": {},
   "outputs": [],
   "source": [
    "print(type(caw_vapor.index))"
   ]
  },
  {
   "cell_type": "code",
   "execution_count": null,
   "id": "d51de3c8",
   "metadata": {},
   "outputs": [],
   "source": [
    "# Monthly and quarterly sum of Average Vapor Pressure, Pacific Grove\n",
    "print(\"Monthly Average Vapor Pressure, Pacific Grove\")\n",
    "print()\n",
    "caw_vapor_monthly_average = caw_vapor.resample('M').mean()\n",
    "print(caw_vapor_monthly_average)\n",
    "print('-----------------------------------------------------')\n",
    "print(\"Quarterly Average Vapor Pressure, Pacific Grove\")\n",
    "caw_vapor_quarter_average = caw_vapor.resample('Q').mean()\n",
    "print()\n",
    "print(caw_vapor.resample('Q').mean())"
   ]
  },
  {
   "cell_type": "code",
   "execution_count": null,
   "id": "17360ef5",
   "metadata": {},
   "outputs": [],
   "source": [
    "#caw_vapor_monthly_average.plot.bar()"
   ]
  },
  {
   "cell_type": "code",
   "execution_count": null,
   "id": "e5d893f4",
   "metadata": {},
   "outputs": [],
   "source": [
    "#  Average Vapor Pressure of Coalinga\n",
    "caw_vapor_compare = coalinga_df.iloc[:,[8]]\n",
    "caw_vapor_compare"
   ]
  },
  {
   "cell_type": "code",
   "execution_count": null,
   "id": "5b7b435d",
   "metadata": {},
   "outputs": [],
   "source": [
    "print(type(caw_vapor_compare.index))"
   ]
  },
  {
   "cell_type": "code",
   "execution_count": null,
   "id": "63781323",
   "metadata": {},
   "outputs": [],
   "source": [
    "# Monthly and quarterly sum of Average Vapor Pressure, Coalinga\n",
    "print(\"  Monthly Average Vapor Pressure, Coalinga\")\n",
    "caw_vapor_compare_monthly_average = caw_vapor_compare.resample('M').mean()\n",
    "print(caw_vapor_compare_monthly_average)\n",
    "print('-----------------------------------------------------')\n",
    "print(\"  Quarterly Average Vapor Pressure, Coalinga\")\n",
    "caw_vapor_compare_quarter_average = caw_vapor_compare.resample('Q').mean()\n",
    "print(caw_vapor_compare_quarter_average)"
   ]
  },
  {
   "cell_type": "code",
   "execution_count": null,
   "id": "7f76c3b8",
   "metadata": {},
   "outputs": [],
   "source": [
    "plt.plot(caw_vapor_monthly_average.index, caw_vapor_monthly_average['Average Vapor Pressure   (mBars)   (kPa)'],label='Pacific Grove',linewidth=3)\n",
    "plt.plot(caw_vapor_compare_monthly_average.index, caw_vapor_compare_monthly_average['Average Vapor Pressure   (mBars)   (kPa)'],label='Coalinga',linewidth=3)\n",
    "plt.title('Pacific Grove vs Coalinga: Monthly Average Vapor Pressure')\n",
    "plt.ylabel('Average Vapor Pressure')\n",
    "plt.xlabel('Month')\n",
    "plt.grid()\n",
    "plt.legend()"
   ]
  },
  {
   "cell_type": "markdown",
   "id": "0a2c2c64",
   "metadata": {},
   "source": [
    "From the graph we can prove that our assumption is right.    \n",
    "The average of Vapor Pressure of Pacific Grove(13.1) is grater than that of Coalinga(7.1).    \n",
    "We also noticed that the Avarage Vapor Pressure of Pacific Grove and Coalinga both reaches the peak during the summer."
   ]
  },
  {
   "cell_type": "markdown",
   "id": "4d9cf741",
   "metadata": {},
   "source": [
    "---"
   ]
  },
  {
   "cell_type": "markdown",
   "id": "f99ead8e",
   "metadata": {},
   "source": [
    "Compare the Average Wind Speed of the two places"
   ]
  },
  {
   "cell_type": "code",
   "execution_count": null,
   "id": "8033052d",
   "metadata": {},
   "outputs": [],
   "source": [
    "# Average Wind Speed of Pacific Grove  \n",
    "caw_wind = pacific_df.iloc[:,[24]]\n",
    "caw_wind"
   ]
  },
  {
   "cell_type": "code",
   "execution_count": null,
   "id": "be19b1ef",
   "metadata": {},
   "outputs": [],
   "source": [
    "# Monthly and quarterly sum of Average Wind Speed, Pacific Grove\n",
    "print(\"Monthly Average Wind Speed, Pacific Grove\")\n",
    "print()\n",
    "caw_wind_monthly_average = caw_wind.resample('M').mean()\n",
    "print(caw_wind_monthly_average)\n",
    "print('-----------------------------------------------------')\n",
    "print(\"Quarterly Average Wind Speed, Pacific Grove\")\n",
    "print()\n",
    "caw_wind_quarter_average = caw_wind.resample('Q').mean()\n",
    "print(caw_wind_quarter_average)"
   ]
  },
  {
   "cell_type": "code",
   "execution_count": null,
   "id": "9aa98bf5",
   "metadata": {},
   "outputs": [],
   "source": [
    "# Average Wind Speed of Coalinga \n",
    "caw_wind_compare = coalinga_df.iloc[:,[24]]\n",
    "caw_wind_compare"
   ]
  },
  {
   "cell_type": "code",
   "execution_count": null,
   "id": "944211d1",
   "metadata": {},
   "outputs": [],
   "source": [
    "# Monthly and quarterly sum of Average Wind Speed, Coalinga\n",
    "print(\" Monthly Average Wind Speed, Coalinga\")\n",
    "print()\n",
    "caw_wind_compare_monthly_average = caw_wind_compare.resample('M').mean()\n",
    "print(caw_wind_compare_monthly_average)\n",
    "print('-----------------------------------------------------')\n",
    "print(\" Quarterly Average Wind Speed, Coalinga\")\n",
    "print()\n",
    "caw_wind_compare_quarter_average = caw_wind_compare.resample('Q').mean()\n",
    "print(caw_wind_compare_quarter_average)"
   ]
  },
  {
   "cell_type": "code",
   "execution_count": null,
   "id": "ac94b39c",
   "metadata": {},
   "outputs": [],
   "source": [
    "# plt.plot(caw_wind_monthly_sum.index, caw_wind_monthly_sum['Average Wind Speed   (mph)   (m/s)'],label='Pacific Grove',linewidth=3)\n",
    "# plt.plot(caw_wind_compare_monthly_sum.index, caw_wind_compare_monthly_sum['Average Wind Speed   (mph)   (m/s)'],label='Coalinga',linewidth=3)\n",
    "# plt.title('Pacific Grove vs Coalinga: Monthly Sum of Average Wind Speed')\n",
    "# plt.ylabel('Average Wind Spped')\n",
    "# plt.xlabel('Month')\n",
    "# plt.grid()\n",
    "# plt.legend()"
   ]
  },
  {
   "cell_type": "code",
   "execution_count": null,
   "id": "03597ba4",
   "metadata": {},
   "outputs": [],
   "source": [
    "fig = plt.figure()\n",
    "plt.plot(caw_wind_monthly_average.index, caw_wind_monthly_average['Average Wind Speed   (mph)   (m/s)'],'ys-') \n",
    "plt.plot(caw_wind_compare_monthly_average.index, caw_wind_compare_monthly_average['Average Wind Speed   (mph)   (m/s)'],'go--')\n",
    "plt.legend(labels = ('Pacific Grove', 'Coalinga'), loc = 'upper right') \n",
    "plt.title(\"Pacific Grove vs Coalinga: Monthly Average Wind Speed\")\n",
    "plt.xlabel('Month')\n",
    "plt.ylabel('Average Wind Speed')\n",
    "plt.grid()"
   ]
  },
  {
   "cell_type": "code",
   "execution_count": null,
   "id": "8267c6e2",
   "metadata": {},
   "outputs": [],
   "source": [
    "caw_wind_monthly_average.plot.bar(stacked=True)\n",
    "caw_wind_compare_monthly_average.plot.bar(stacked=True)\n"
   ]
  },
  {
   "cell_type": "code",
   "execution_count": null,
   "id": "bc18b39b",
   "metadata": {},
   "outputs": [],
   "source": [
    "quarter = [\"Q1\", \"Q2\", \"Q3\", \"Q4\"]\n",
    "caw_wind_quarter_average.plot.pie(subplots=True, labels=quarter)\n",
    "caw_wind_compare_quarter_average.plot.pie(subplots=True, labels=quarter)"
   ]
  },
  {
   "cell_type": "code",
   "execution_count": 2,
   "id": "f12d260d",
   "metadata": {},
   "outputs": [
    {
     "ename": "NameError",
     "evalue": "name 'caw_vapor_monthly_average' is not defined",
     "output_type": "error",
     "traceback": [
      "\u001b[0;31m---------------------------------------------------------------------------\u001b[0m",
      "\u001b[0;31mNameError\u001b[0m                                 Traceback (most recent call last)",
      "\u001b[0;32m/var/folders/6w/kqw7_pd13p703hbc51gh09b80000gn/T/ipykernel_35480/3865095950.py\u001b[0m in \u001b[0;36m<module>\u001b[0;34m\u001b[0m\n\u001b[0;32m----> 1\u001b[0;31m \u001b[0mcaw_vapor_monthly_average\u001b[0m\u001b[0;34m.\u001b[0m\u001b[0mplot\u001b[0m\u001b[0;34m.\u001b[0m\u001b[0mbar\u001b[0m\u001b[0;34m(\u001b[0m\u001b[0;34m)\u001b[0m\u001b[0;34m\u001b[0m\u001b[0;34m\u001b[0m\u001b[0m\n\u001b[0m",
      "\u001b[0;31mNameError\u001b[0m: name 'caw_vapor_monthly_average' is not defined"
     ]
    }
   ],
   "source": [
    "caw_vapor_monthly_average.plot.bar()"
   ]
  },
  {
   "cell_type": "code",
   "execution_count": null,
   "id": "1de5bae1",
   "metadata": {},
   "outputs": [],
   "source": [
    "caw_vapor_compare_monthly_average.plot.bar()"
   ]
  },
  {
   "cell_type": "code",
   "execution_count": null,
   "id": "efd7857a",
   "metadata": {},
   "outputs": [],
   "source": [
    "quarter = [\"Q1\", \"Q2\", \"Q3\", \"Q4\"]\n",
    "caw_vapor_compare_quarter_average.plot.pie(subplots=True, labels=quarter)\n",
    "caw_vapor_quarter_average.plot.pie(subplots=True, labels=quarter)"
   ]
  },
  {
   "cell_type": "code",
   "execution_count": null,
   "id": "d64698a6",
   "metadata": {},
   "outputs": [],
   "source": [
    "caw_vapor.describe()"
   ]
  },
  {
   "cell_type": "code",
   "execution_count": null,
   "id": "dcbd1279",
   "metadata": {},
   "outputs": [],
   "source": [
    "caw_vapor_compare.describe()"
   ]
  },
  {
   "cell_type": "code",
   "execution_count": null,
   "id": "37aaeb94",
   "metadata": {},
   "outputs": [],
   "source": [
    "caw_wind.describe()"
   ]
  },
  {
   "cell_type": "code",
   "execution_count": null,
   "id": "a2140a82",
   "metadata": {},
   "outputs": [],
   "source": [
    "caw_wind_compare.describe()"
   ]
  },
  {
   "cell_type": "markdown",
   "id": "4d38d8ef",
   "metadata": {},
   "source": [
    "The average of Vapor Pressure of Pacific Grove(13.1) is grater than that of Coalinga(7.1).\n",
    "The standard deviation of Vapor Pressure of Pacific Grove(2.6) is smaller than that of Coalinga(2.9).\n",
    "The average of Wind speed of Pacific Grove(3.0) is smaller than that of Coalinga(4.6).\n",
    "The standard deviation of Wind speed of Pacific Grove(1.1) is lower than that of Coalinga(1.9).\n",
    "\n",
    "Conculsion: \n",
    "1.The average Vapor Pressure of coastal plain is greater than inland alpine.\n",
    "2.The average Wind Speed of coastal plain is smaller than inland alpine.\n",
    "3.The avarage Vapor Pressure of coastal plain and inland alpine both reaches the peak during the summer.\n",
    "4.For both of coastal plain and inland alpine, the Wind Speed of first half of the year is greater than the second half of the year.\n"
   ]
  },
  {
   "cell_type": "code",
   "execution_count": null,
   "id": "e184687b",
   "metadata": {},
   "outputs": [],
   "source": []
  },
  {
   "cell_type": "code",
   "execution_count": null,
   "id": "58295564",
   "metadata": {},
   "outputs": [],
   "source": []
  },
  {
   "cell_type": "code",
   "execution_count": null,
   "id": "07c004f0",
   "metadata": {},
   "outputs": [],
   "source": []
  }
 ],
 "metadata": {
  "kernelspec": {
   "display_name": "Python 3 (ipykernel)",
   "language": "python",
   "name": "python3"
  },
  "language_info": {
   "codemirror_mode": {
    "name": "ipython",
    "version": 3
   },
   "file_extension": ".py",
   "mimetype": "text/x-python",
   "name": "python",
   "nbconvert_exporter": "python",
   "pygments_lexer": "ipython3",
   "version": "3.9.1"
  },
  "toc": {
   "base_numbering": 1,
   "nav_menu": {},
   "number_sections": false,
   "sideBar": true,
   "skip_h1_title": false,
   "title_cell": "Table of Contents",
   "title_sidebar": "Contents",
   "toc_cell": false,
   "toc_position": {},
   "toc_section_display": true,
   "toc_window_display": false
  }
 },
 "nbformat": 4,
 "nbformat_minor": 5
}
